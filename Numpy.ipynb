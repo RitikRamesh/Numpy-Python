{
 "cells": [
  {
   "cell_type": "markdown",
   "id": "8abc94ff",
   "metadata": {},
   "source": [
    "# Numpy"
   ]
  },
  {
   "cell_type": "markdown",
   "id": "a82beec7",
   "metadata": {},
   "source": [
    "- Stands for Numerical Python and is the Core library for numerical computations\n",
    "- Provides functionalities to make multi-dimensional arrays (1D, 2D, 3D or nD arrays)\n",
    "\n",
    "\n",
    "- We have lists that we can use to create multi-dimensional lists instead of using arrays to perform these tasks, so why do we need Numpy?\n",
    "\n",
    "\n",
    "- The advantages of using Numpy is Memory efficient, Faster, lot of convenience and functionalties.\n",
    "- Numpy is built on C language which makes it so much faster."
   ]
  },
  {
   "cell_type": "markdown",
   "id": "748299bf",
   "metadata": {},
   "source": [
    "Numpy contains `integers` and `floating point objects` and also some `containers like Lists and Dictionaries` built-in for faster mathematical calculations"
   ]
  },
  {
   "attachments": {},
   "cell_type": "markdown",
   "id": "3fe789c4",
   "metadata": {},
   "source": [
    "In NumPy, dimensions are called **axis**. In the 2-d array above, there are two axis, having two and three elements respectively. \n",
    "\n",
    "In NumPy terminology, for 2-D arrays:\n",
    "* ```axis = 0``` refers to the axis running vertically downwards across rows\n",
    "* ```axis = 1``` refers to the axis running horizontally across columns"
   ]
  },
  {
   "cell_type": "markdown",
   "id": "02941fe6",
   "metadata": {},
   "source": [
    "# Data Manipulation"
   ]
  },
  {
   "cell_type": "code",
   "execution_count": 3,
   "id": "cca707bf",
   "metadata": {},
   "outputs": [],
   "source": [
    "import numpy as np"
   ]
  },
  {
   "cell_type": "markdown",
   "id": "0c5c118a",
   "metadata": {},
   "source": [
    "# Creating array from list and tuple"
   ]
  },
  {
   "cell_type": "code",
   "execution_count": 12,
   "id": "5692ff16",
   "metadata": {},
   "outputs": [
    {
     "data": {
      "text/plain": [
       "[1, 2, 3, 4, 5, 6, 7, 8]"
      ]
     },
     "execution_count": 12,
     "metadata": {},
     "output_type": "execute_result"
    }
   ],
   "source": [
    "lst =[1,2,3,4,5,6,7,8]\n",
    "lst"
   ]
  },
  {
   "cell_type": "code",
   "execution_count": 13,
   "id": "d2c0c011",
   "metadata": {},
   "outputs": [
    {
     "data": {
      "text/plain": [
       "array([1, 2, 3, 4, 5, 6, 7, 8])"
      ]
     },
     "execution_count": 13,
     "metadata": {},
     "output_type": "execute_result"
    }
   ],
   "source": [
    "import numpy as np\n",
    "arr1 = np.array(lst)\n",
    "arr1"
   ]
  },
  {
   "cell_type": "code",
   "execution_count": 14,
   "id": "198a0758",
   "metadata": {},
   "outputs": [
    {
     "data": {
      "text/plain": [
       "array([1, 2, 3, 4, 5, 6, 7, 8])"
      ]
     },
     "execution_count": 14,
     "metadata": {},
     "output_type": "execute_result"
    }
   ],
   "source": [
    "lst = [1,2,3,4,5,6,7,8]\n",
    "arr = np.array(lst)\n",
    "arr"
   ]
  },
  {
   "cell_type": "code",
   "execution_count": 17,
   "id": "e10dab2c",
   "metadata": {},
   "outputs": [
    {
     "data": {
      "text/plain": [
       "array([1, 2, 3, 4, 5, 6])"
      ]
     },
     "execution_count": 17,
     "metadata": {},
     "output_type": "execute_result"
    }
   ],
   "source": [
    "tup = (1,2,3,4,5,6)\n",
    "arr = np.array(tup)\n",
    "arr"
   ]
  },
  {
   "cell_type": "code",
   "execution_count": 18,
   "id": "d684ff05",
   "metadata": {},
   "outputs": [
    {
     "data": {
      "text/plain": [
       "1"
      ]
     },
     "execution_count": 18,
     "metadata": {},
     "output_type": "execute_result"
    }
   ],
   "source": [
    "arr1.ndim"
   ]
  },
  {
   "cell_type": "code",
   "execution_count": 19,
   "id": "61634481",
   "metadata": {},
   "outputs": [
    {
     "data": {
      "text/plain": [
       "(8,)"
      ]
     },
     "execution_count": 19,
     "metadata": {},
     "output_type": "execute_result"
    }
   ],
   "source": [
    "arr1.shape"
   ]
  },
  {
   "cell_type": "markdown",
   "id": "975ecb57",
   "metadata": {},
   "source": [
    "# Creating 2-d Array"
   ]
  },
  {
   "cell_type": "code",
   "execution_count": 23,
   "id": "1288e0ed",
   "metadata": {},
   "outputs": [
    {
     "data": {
      "text/plain": [
       "array([[1, 2, 3, 4],\n",
       "       [4, 5, 6, 7]])"
      ]
     },
     "execution_count": 23,
     "metadata": {},
     "output_type": "execute_result"
    }
   ],
   "source": [
    "arr_2d = np.array([[1,2,3,4],[4,5,6,7]])\n",
    "arr_2d"
   ]
  },
  {
   "cell_type": "markdown",
   "id": "64610320",
   "metadata": {},
   "source": [
    "# 1D Array is called Vector, 2D Array is called Matrix, nD Array is called Tensor "
   ]
  },
  {
   "cell_type": "markdown",
   "id": "60cbd079",
   "metadata": {},
   "source": [
    "# Creating arrays using functions"
   ]
  },
  {
   "cell_type": "markdown",
   "id": "0fef8842",
   "metadata": {},
   "source": [
    "The other common way is to initialise arrays using built-in functions. \n",
    "\n",
    "The following ways are commonly used:\n",
    "* ```np.ones()```: Create array of 1s\n",
    "* ```np.zeros()```: Create array of 0s\n",
    "* ```np.random.random()```: Create array of random numbers\n",
    "* ```np.arange()```: Create array with increments of a fixed step size\n",
    "* ```np.linspace()```: Create array of fixed length\n",
    "* ```np.diag()```: Constructs a diagonal array"
   ]
  },
  {
   "cell_type": "code",
   "execution_count": 7,
   "id": "1a349310",
   "metadata": {},
   "outputs": [
    {
     "data": {
      "text/plain": [
       "array([[1, 2, 3, 4],\n",
       "       [4, 5, 6, 7]])"
      ]
     },
     "execution_count": 7,
     "metadata": {},
     "output_type": "execute_result"
    }
   ],
   "source": [
    "import numpy as np\n",
    "arr_2d = np.array([[1,2,3,4],[4,5,6,7]])\n",
    "arr_2d"
   ]
  },
  {
   "cell_type": "code",
   "execution_count": 8,
   "id": "e4493f1d",
   "metadata": {},
   "outputs": [
    {
     "name": "stdout",
     "output_type": "stream",
     "text": [
      "2\n"
     ]
    }
   ],
   "source": [
    "print(arr_2d.ndim)"
   ]
  },
  {
   "cell_type": "code",
   "execution_count": 6,
   "id": "c03d2b52",
   "metadata": {},
   "outputs": [
    {
     "name": "stdout",
     "output_type": "stream",
     "text": [
      "(2, 4)\n"
     ]
    }
   ],
   "source": [
    "print(arr_2d.shape)"
   ]
  },
  {
   "cell_type": "code",
   "execution_count": 17,
   "id": "b0d63f2e",
   "metadata": {},
   "outputs": [
    {
     "data": {
      "text/plain": [
       "array([ 5., 10., 15., 20., 25., 30., 35., 40., 45., 50.])"
      ]
     },
     "execution_count": 17,
     "metadata": {},
     "output_type": "execute_result"
    }
   ],
   "source": [
    "arr2 = np.arange(5,51,5, dtype = 'float')\n",
    "arr2"
   ]
  },
  {
   "cell_type": "code",
   "execution_count": 14,
   "id": "728141ae",
   "metadata": {},
   "outputs": [
    {
     "data": {
      "text/plain": [
       "1"
      ]
     },
     "execution_count": 14,
     "metadata": {},
     "output_type": "execute_result"
    }
   ],
   "source": [
    "arr2.ndim"
   ]
  },
  {
   "attachments": {},
   "cell_type": "markdown",
   "id": "2d92bd3a",
   "metadata": {},
   "source": [
    "above querry results showing 25., because it is float values so shows decimals."
   ]
  },
  {
   "cell_type": "code",
   "execution_count": 19,
   "id": "37ec16c8",
   "metadata": {},
   "outputs": [
    {
     "data": {
      "text/plain": [
       "array([[1, 1, 1, 1, 1],\n",
       "       [1, 1, 1, 1, 1],\n",
       "       [1, 1, 1, 1, 1],\n",
       "       [1, 1, 1, 1, 1],\n",
       "       [1, 1, 1, 1, 1]])"
      ]
     },
     "execution_count": 19,
     "metadata": {},
     "output_type": "execute_result"
    }
   ],
   "source": [
    "np.ones((5,5),dtype = 'int')"
   ]
  },
  {
   "cell_type": "code",
   "execution_count": 2,
   "id": "24a2e55d",
   "metadata": {},
   "outputs": [
    {
     "data": {
      "text/plain": [
       "array([[0, 0, 0, 0],\n",
       "       [0, 0, 0, 0],\n",
       "       [0, 0, 0, 0],\n",
       "       [0, 0, 0, 0],\n",
       "       [0, 0, 0, 0]])"
      ]
     },
     "execution_count": 2,
     "metadata": {},
     "output_type": "execute_result"
    }
   ],
   "source": [
    "np.zeros((5,4),dtype = 'int')"
   ]
  },
  {
   "cell_type": "code",
   "execution_count": 15,
   "id": "963ef361",
   "metadata": {},
   "outputs": [
    {
     "data": {
      "text/plain": [
       "array([[ 0,  1,  2,  3],\n",
       "       [ 4,  5,  6,  7],\n",
       "       [ 8,  9, 10, 11],\n",
       "       [12, 13, 14, 15],\n",
       "       [16, 17, 18, 19],\n",
       "       [20, 21, 22, 23],\n",
       "       [24, 25, 26, 27],\n",
       "       [28, 29, 30, 31]])"
      ]
     },
     "execution_count": 15,
     "metadata": {},
     "output_type": "execute_result"
    }
   ],
   "source": [
    "np.arange(32).reshape(8,4)"
   ]
  },
  {
   "cell_type": "code",
   "execution_count": 15,
   "id": "be96f473",
   "metadata": {},
   "outputs": [
    {
     "data": {
      "text/plain": [
       "array([[23, 23, 23, 23, 23],\n",
       "       [23, 23, 23, 23, 23],\n",
       "       [23, 23, 23, 23, 23],\n",
       "       [23, 23, 23, 23, 23],\n",
       "       [23, 23, 23, 23, 23]])"
      ]
     },
     "execution_count": 15,
     "metadata": {},
     "output_type": "execute_result"
    }
   ],
   "source": [
    "np.full((5,5),23)"
   ]
  },
  {
   "cell_type": "code",
   "execution_count": 38,
   "id": "b47abe9e",
   "metadata": {},
   "outputs": [
    {
     "data": {
      "text/plain": [
       "array([[23.5, 23.5, 23.5, 23.5, 23.5],\n",
       "       [23.5, 23.5, 23.5, 23.5, 23.5],\n",
       "       [23.5, 23.5, 23.5, 23.5, 23.5],\n",
       "       [23.5, 23.5, 23.5, 23.5, 23.5],\n",
       "       [23.5, 23.5, 23.5, 23.5, 23.5]])"
      ]
     },
     "execution_count": 38,
     "metadata": {},
     "output_type": "execute_result"
    }
   ],
   "source": [
    "np.full((5,5), 23.5)"
   ]
  },
  {
   "cell_type": "code",
   "execution_count": 16,
   "id": "f81a1afb",
   "metadata": {},
   "outputs": [
    {
     "data": {
      "text/plain": [
       "array([[164, 162, 467, 214, 281],\n",
       "       [462, 400, 123, 147, 311],\n",
       "       [354, 238, 221, 391, 395],\n",
       "       [285, 436, 114, 127, 312],\n",
       "       [491, 139, 456, 468, 432]])"
      ]
     },
     "execution_count": 16,
     "metadata": {},
     "output_type": "execute_result"
    }
   ],
   "source": [
    "np.random.randint(100,500, size = (5,5))"
   ]
  },
  {
   "cell_type": "code",
   "execution_count": 21,
   "id": "d4a35f3c",
   "metadata": {},
   "outputs": [
    {
     "data": {
      "text/plain": [
       "array([[-64, -40, -90],\n",
       "       [240, 335, 319],\n",
       "       [479, 329, 231],\n",
       "       [116, 358, 373],\n",
       "       [ 14, 317, 194],\n",
       "       [143, 224, 311]])"
      ]
     },
     "execution_count": 21,
     "metadata": {},
     "output_type": "execute_result"
    }
   ],
   "source": [
    "np.random.randint(-100,500, size = (6,3))"
   ]
  },
  {
   "cell_type": "code",
   "execution_count": 6,
   "id": "f7cfa29c",
   "metadata": {},
   "outputs": [
    {
     "data": {
      "text/plain": [
       "array([[ 9,  2, -8],\n",
       "       [-9,  1,  8],\n",
       "       [-6,  7,  4]])"
      ]
     },
     "execution_count": 6,
     "metadata": {},
     "output_type": "execute_result"
    }
   ],
   "source": [
    "import numpy as np\n",
    "np.random.randint(-10,10, size =(3,3))"
   ]
  },
  {
   "cell_type": "markdown",
   "id": "7c835cf0",
   "metadata": {},
   "source": [
    "# Basic DataTypes"
   ]
  },
  {
   "cell_type": "markdown",
   "id": "176e17e5",
   "metadata": {},
   "source": [
    "#You can explicitly specify which data-type you want:\n",
    "\n",
    "a_float = np.arange(15, dtype='float')\n",
    "a_float"
   ]
  },
  {
   "cell_type": "code",
   "execution_count": 7,
   "id": "da5e0d6b",
   "metadata": {},
   "outputs": [
    {
     "name": "stdout",
     "output_type": "stream",
     "text": [
      "[[1 1 1]\n",
      " [1 1 1]\n",
      " [1 1 1]]\n"
     ]
    },
    {
     "data": {
      "text/plain": [
       "dtype('int64')"
      ]
     },
     "execution_count": 7,
     "metadata": {},
     "output_type": "execute_result"
    }
   ],
   "source": [
    "#The default data type is float for zeros and ones function\n",
    "\n",
    "a = np.ones((3, 3), dtype='int')\n",
    "\n",
    "print(a)\n",
    "a.dtype"
   ]
  },
  {
   "cell_type": "code",
   "execution_count": 8,
   "id": "48d84ce5",
   "metadata": {},
   "outputs": [
    {
     "data": {
      "text/plain": [
       "array([[0, 0, 0, 0, 0],\n",
       "       [0, 0, 0, 0, 0],\n",
       "       [0, 0, 0, 0, 0],\n",
       "       [0, 0, 0, 0, 0],\n",
       "       [0, 0, 0, 0, 0]])"
      ]
     },
     "execution_count": 8,
     "metadata": {},
     "output_type": "execute_result"
    }
   ],
   "source": [
    "np_zeros = np.zeros((5,5), dtype='int')\n",
    "np_zeros"
   ]
  },
  {
   "cell_type": "markdown",
   "id": "73b29187",
   "metadata": {},
   "source": [
    "# Some Other Datatypes in Numpy Arrays"
   ]
  },
  {
   "cell_type": "code",
   "execution_count": 9,
   "id": "e93c5777",
   "metadata": {},
   "outputs": [
    {
     "data": {
      "text/plain": [
       "array([1.+2.j, 2.+4.j])"
      ]
     },
     "execution_count": 9,
     "metadata": {},
     "output_type": "execute_result"
    }
   ],
   "source": [
    "d = np.array([1+2j, 2+4j])   #Complex datatype\n",
    "d\n",
    "#print(d.dtype)"
   ]
  },
  {
   "cell_type": "code",
   "execution_count": 10,
   "id": "ed013ad3",
   "metadata": {},
   "outputs": [
    {
     "data": {
      "text/plain": [
       "array([ True, False,  True, False])"
      ]
     },
     "execution_count": 10,
     "metadata": {},
     "output_type": "execute_result"
    }
   ],
   "source": [
    "b = np.array([True, False, True, False])  #Boolean datatype\n",
    "b\n",
    "#b.dtype"
   ]
  },
  {
   "cell_type": "code",
   "execution_count": 11,
   "id": "3a46c758",
   "metadata": {},
   "outputs": [
    {
     "data": {
      "text/plain": [
       "array(['Ram', 'Robert', 'Rahim'], dtype='<U6')"
      ]
     },
     "execution_count": 11,
     "metadata": {},
     "output_type": "execute_result"
    }
   ],
   "source": [
    "s = np.array(['Ram', 'Robert', 'Rahim'])\n",
    "s\n",
    "#s.dtype"
   ]
  },
  {
   "cell_type": "markdown",
   "id": "08cf6c2f",
   "metadata": {},
   "source": [
    "# Indexing and Slicing"
   ]
  },
  {
   "cell_type": "markdown",
   "id": "baccf664",
   "metadata": {},
   "source": [
    "# Indexing in array"
   ]
  },
  {
   "cell_type": "markdown",
   "id": "6a52bbc5",
   "metadata": {},
   "source": [
    "<font size = '5'>The items of an array can be accessed and assigned to the same way as other **Python sequences (e.g. lists)**</font>"
   ]
  },
  {
   "cell_type": "markdown",
   "id": "8237232c",
   "metadata": {},
   "source": [
    "<font size = '3'> For multiple Dimensional Arrays, indexes are tuples of integers.</font>"
   ]
  },
  {
   "cell_type": "code",
   "execution_count": 4,
   "id": "8686e5f2",
   "metadata": {},
   "outputs": [
    {
     "data": {
      "text/plain": [
       "array([[10, 20, 30],\n",
       "       [40, 50, 60],\n",
       "       [70, 80, 90]])"
      ]
     },
     "execution_count": 4,
     "metadata": {},
     "output_type": "execute_result"
    }
   ],
   "source": [
    "arr = np.arange(10,91,10, dtype = 'int').reshape(3,3)\n",
    "arr"
   ]
  },
  {
   "cell_type": "code",
   "execution_count": 13,
   "id": "f7ca06be",
   "metadata": {},
   "outputs": [
    {
     "data": {
      "text/plain": [
       "50"
      ]
     },
     "execution_count": 13,
     "metadata": {},
     "output_type": "execute_result"
    }
   ],
   "source": [
    "arr[1,1]"
   ]
  },
  {
   "cell_type": "code",
   "execution_count": 5,
   "id": "159b9ec5",
   "metadata": {},
   "outputs": [
    {
     "data": {
      "text/plain": [
       "20"
      ]
     },
     "execution_count": 5,
     "metadata": {},
     "output_type": "execute_result"
    }
   ],
   "source": [
    "arr[0,1]"
   ]
  },
  {
   "cell_type": "markdown",
   "id": "21da8015",
   "metadata": {},
   "source": [
    "# Slicing in array"
   ]
  },
  {
   "cell_type": "code",
   "execution_count": 15,
   "id": "a9a5bab9",
   "metadata": {},
   "outputs": [
    {
     "data": {
      "text/plain": [
       "array([[10, 20],\n",
       "       [40, 50]])"
      ]
     },
     "execution_count": 15,
     "metadata": {},
     "output_type": "execute_result"
    }
   ],
   "source": [
    "arr[0:2,0:2]"
   ]
  },
  {
   "cell_type": "code",
   "execution_count": 16,
   "id": "2aadc5b2",
   "metadata": {},
   "outputs": [
    {
     "data": {
      "text/plain": [
       "array([[50, 60],\n",
       "       [80, 90]])"
      ]
     },
     "execution_count": 16,
     "metadata": {},
     "output_type": "execute_result"
    }
   ],
   "source": [
    "arr[1:3,1:3]"
   ]
  },
  {
   "cell_type": "code",
   "execution_count": 17,
   "id": "8af3b2e0",
   "metadata": {},
   "outputs": [
    {
     "data": {
      "text/plain": [
       "array([40, 50, 60])"
      ]
     },
     "execution_count": 17,
     "metadata": {},
     "output_type": "execute_result"
    }
   ],
   "source": [
    "arr[1,0:3]"
   ]
  },
  {
   "cell_type": "markdown",
   "id": "459c32f8",
   "metadata": {},
   "source": [
    "<font size = '5'>**Array Mathematics**</font>"
   ]
  },
  {
   "cell_type": "code",
   "execution_count": 18,
   "id": "ff2ace0d",
   "metadata": {},
   "outputs": [
    {
     "data": {
      "text/plain": [
       "[1, 2, 3, 4, 5, 6, 7, 1, 2, 3, 4, 5, 6, 7]"
      ]
     },
     "execution_count": 18,
     "metadata": {},
     "output_type": "execute_result"
    }
   ],
   "source": [
    "lst=[1,2,3,4,5,6,7]\n",
    "lst*2"
   ]
  },
  {
   "cell_type": "code",
   "execution_count": 2,
   "id": "40ac1fb6",
   "metadata": {},
   "outputs": [
    {
     "data": {
      "text/plain": [
       "[2, 4, 6, 8, 10, 12, 14]"
      ]
     },
     "execution_count": 2,
     "metadata": {},
     "output_type": "execute_result"
    }
   ],
   "source": [
    "lst=[1,2,3,4,5,6,7]\n",
    "lst*2\n",
    "lst2 = []\n",
    "for i in lst:\n",
    "    lst2.append(i*2)\n",
    "lst2"
   ]
  },
  {
   "cell_type": "markdown",
   "id": "2def38d4",
   "metadata": {},
   "source": [
    "In array we can do this in easy way."
   ]
  },
  {
   "cell_type": "code",
   "execution_count": 21,
   "id": "5551e037",
   "metadata": {},
   "outputs": [
    {
     "data": {
      "text/plain": [
       "array([ 2,  4,  6,  8, 10, 12, 14])"
      ]
     },
     "execution_count": 21,
     "metadata": {},
     "output_type": "execute_result"
    }
   ],
   "source": [
    "arr = np.array(lst)\n",
    "arr\n",
    "arr*2"
   ]
  },
  {
   "cell_type": "code",
   "execution_count": 22,
   "id": "d5bf1930",
   "metadata": {},
   "outputs": [],
   "source": [
    "arr2 = np.arange(1,10).reshape(3,3)\n",
    "arr3 = np.arange(11,20).reshape(3,3)"
   ]
  },
  {
   "cell_type": "code",
   "execution_count": 23,
   "id": "2692ee05",
   "metadata": {},
   "outputs": [
    {
     "data": {
      "text/plain": [
       "array([[1, 2, 3],\n",
       "       [4, 5, 6],\n",
       "       [7, 8, 9]])"
      ]
     },
     "execution_count": 23,
     "metadata": {},
     "output_type": "execute_result"
    }
   ],
   "source": [
    "arr2"
   ]
  },
  {
   "cell_type": "code",
   "execution_count": 26,
   "id": "b6424abf",
   "metadata": {},
   "outputs": [
    {
     "data": {
      "text/plain": [
       "array([[11, 12, 13],\n",
       "       [14, 15, 16],\n",
       "       [17, 18, 19]])"
      ]
     },
     "execution_count": 26,
     "metadata": {},
     "output_type": "execute_result"
    }
   ],
   "source": [
    "arr3"
   ]
  },
  {
   "cell_type": "code",
   "execution_count": 32,
   "id": "f602d0a8",
   "metadata": {},
   "outputs": [
    {
     "data": {
      "text/plain": [
       "array([[ 5, 10, 15],\n",
       "       [20, 25, 30],\n",
       "       [35, 40, 45]])"
      ]
     },
     "execution_count": 32,
     "metadata": {},
     "output_type": "execute_result"
    }
   ],
   "source": [
    "arr2*5"
   ]
  },
  {
   "cell_type": "code",
   "execution_count": 33,
   "id": "c114765b",
   "metadata": {},
   "outputs": [
    {
     "data": {
      "text/plain": [
       "array([[33, 36, 39],\n",
       "       [42, 45, 48],\n",
       "       [51, 54, 57]])"
      ]
     },
     "execution_count": 33,
     "metadata": {},
     "output_type": "execute_result"
    }
   ],
   "source": [
    "arr3*3"
   ]
  },
  {
   "cell_type": "code",
   "execution_count": 28,
   "id": "ace8038e",
   "metadata": {},
   "outputs": [
    {
     "data": {
      "text/plain": [
       "array([[ 11,  24,  39],\n",
       "       [ 56,  75,  96],\n",
       "       [119, 144, 171]])"
      ]
     },
     "execution_count": 28,
     "metadata": {},
     "output_type": "execute_result"
    }
   ],
   "source": [
    "arr2*arr3"
   ]
  },
  {
   "cell_type": "markdown",
   "id": "7e122f2f",
   "metadata": {},
   "source": [
    "# matrix multiplication"
   ]
  },
  {
   "cell_type": "code",
   "execution_count": 31,
   "id": "766bcb29",
   "metadata": {},
   "outputs": [
    {
     "data": {
      "text/plain": [
       "array([[ 90,  96, 102],\n",
       "       [216, 231, 246],\n",
       "       [342, 366, 390]])"
      ]
     },
     "execution_count": 31,
     "metadata": {},
     "output_type": "execute_result"
    }
   ],
   "source": [
    "arr2.dot(arr3)"
   ]
  },
  {
   "cell_type": "code",
   "execution_count": 34,
   "id": "905f1e29",
   "metadata": {},
   "outputs": [
    {
     "data": {
      "text/plain": [
       "array([[10, 10, 10],\n",
       "       [10, 10, 10],\n",
       "       [10, 10, 10]])"
      ]
     },
     "execution_count": 34,
     "metadata": {},
     "output_type": "execute_result"
    }
   ],
   "source": [
    "arr3-arr2"
   ]
  },
  {
   "cell_type": "code",
   "execution_count": 35,
   "id": "228ef54c",
   "metadata": {},
   "outputs": [
    {
     "data": {
      "text/plain": [
       "array([[12, 14, 16],\n",
       "       [18, 20, 22],\n",
       "       [24, 26, 28]])"
      ]
     },
     "execution_count": 35,
     "metadata": {},
     "output_type": "execute_result"
    }
   ],
   "source": [
    "arr2+arr3"
   ]
  },
  {
   "cell_type": "code",
   "execution_count": 40,
   "id": "4e385fa7",
   "metadata": {},
   "outputs": [
    {
     "data": {
      "text/plain": [
       "array([[12, 14, 16],\n",
       "       [18, 20, 22],\n",
       "       [24, 26, 28]])"
      ]
     },
     "execution_count": 40,
     "metadata": {},
     "output_type": "execute_result"
    }
   ],
   "source": [
    "np.add(arr2,arr3)"
   ]
  },
  {
   "cell_type": "code",
   "execution_count": 41,
   "id": "8cf69331",
   "metadata": {},
   "outputs": [
    {
     "data": {
      "text/plain": [
       "array([[10, 10, 10],\n",
       "       [10, 10, 10],\n",
       "       [10, 10, 10]])"
      ]
     },
     "execution_count": 41,
     "metadata": {},
     "output_type": "execute_result"
    }
   ],
   "source": [
    "np.subtract(arr3,arr2)"
   ]
  },
  {
   "cell_type": "code",
   "execution_count": 42,
   "id": "7c0d409d",
   "metadata": {},
   "outputs": [
    {
     "data": {
      "text/plain": [
       "array([[ 11,  24,  39],\n",
       "       [ 56,  75,  96],\n",
       "       [119, 144, 171]])"
      ]
     },
     "execution_count": 42,
     "metadata": {},
     "output_type": "execute_result"
    }
   ],
   "source": [
    "np.multiply(arr2,arr3)"
   ]
  },
  {
   "cell_type": "code",
   "execution_count": 46,
   "id": "036c7b9b",
   "metadata": {},
   "outputs": [
    {
     "data": {
      "text/plain": [
       "array([[0.09090909, 0.16666667, 0.23076923],\n",
       "       [0.28571429, 0.33333333, 0.375     ],\n",
       "       [0.41176471, 0.44444444, 0.47368421]])"
      ]
     },
     "execution_count": 46,
     "metadata": {},
     "output_type": "execute_result"
    }
   ],
   "source": [
    "np.divide(arr2,arr3)"
   ]
  },
  {
   "cell_type": "code",
   "execution_count": 47,
   "id": "854c69ad",
   "metadata": {},
   "outputs": [
    {
     "data": {
      "text/plain": [
       "array([[2.71828183e+00, 7.38905610e+00, 2.00855369e+01],\n",
       "       [5.45981500e+01, 1.48413159e+02, 4.03428793e+02],\n",
       "       [1.09663316e+03, 2.98095799e+03, 8.10308393e+03]])"
      ]
     },
     "execution_count": 47,
     "metadata": {},
     "output_type": "execute_result"
    }
   ],
   "source": [
    "np.exp(arr2)"
   ]
  },
  {
   "cell_type": "code",
   "execution_count": 36,
   "id": "e3fcbf15",
   "metadata": {},
   "outputs": [
    {
     "data": {
      "text/plain": [
       "array([[0.        , 0.69314718, 1.09861229],\n",
       "       [1.38629436, 1.60943791, 1.79175947],\n",
       "       [1.94591015, 2.07944154, 2.19722458]])"
      ]
     },
     "execution_count": 36,
     "metadata": {},
     "output_type": "execute_result"
    }
   ],
   "source": [
    "np.log(arr2)"
   ]
  },
  {
   "cell_type": "code",
   "execution_count": 48,
   "id": "38051de1",
   "metadata": {},
   "outputs": [
    {
     "data": {
      "text/plain": [
       "0.6931471805599453"
      ]
     },
     "execution_count": 48,
     "metadata": {},
     "output_type": "execute_result"
    }
   ],
   "source": [
    "np.log(2)"
   ]
  },
  {
   "cell_type": "code",
   "execution_count": 51,
   "id": "533c1a72",
   "metadata": {},
   "outputs": [
    {
     "data": {
      "text/plain": [
       "array([[47, 42, 34, 27, 48, 17, 48, 26],\n",
       "       [22, 48, 35, 26, 31, 45, 24, 24],\n",
       "       [29, 37, 26, 47, 44, 24, 21, 37],\n",
       "       [12, 18, 46, 13, 24, 11, 26, 22],\n",
       "       [40, 45, 40, 31, 19, 46, 47, 32],\n",
       "       [30, 42, 40, 35, 47, 28, 16, 37],\n",
       "       [31, 14, 49, 15, 23, 49, 30, 14],\n",
       "       [46, 20, 41, 17, 28, 45, 26, 43],\n",
       "       [37, 32, 17, 21, 41, 45, 25, 31],\n",
       "       [47, 46, 44, 45, 27, 25, 47, 19]])"
      ]
     },
     "execution_count": 51,
     "metadata": {},
     "output_type": "execute_result"
    }
   ],
   "source": [
    "arr4 = np.random.randint(10,50, size = (10,8))\n",
    "arr4"
   ]
  },
  {
   "cell_type": "code",
   "execution_count": 53,
   "id": "55834be3",
   "metadata": {},
   "outputs": [
    {
     "data": {
      "text/plain": [
       "32.45"
      ]
     },
     "execution_count": 53,
     "metadata": {},
     "output_type": "execute_result"
    }
   ],
   "source": [
    "np.mean(arr4)"
   ]
  },
  {
   "attachments": {},
   "cell_type": "markdown",
   "id": "636e91c7",
   "metadata": {},
   "source": [
    "# axis = 0 is for coln."
   ]
  },
  {
   "cell_type": "code",
   "execution_count": 54,
   "id": "c7291184",
   "metadata": {},
   "outputs": [
    {
     "data": {
      "text/plain": [
       "array([34.1, 34.4, 37.2, 27.7, 33.2, 33.5, 31. , 28.5])"
      ]
     },
     "execution_count": 54,
     "metadata": {},
     "output_type": "execute_result"
    }
   ],
   "source": [
    "np.mean(arr4, axis = 0)"
   ]
  },
  {
   "attachments": {},
   "cell_type": "markdown",
   "id": "4624426f",
   "metadata": {},
   "source": [
    "# axis = 1 is for rows."
   ]
  },
  {
   "cell_type": "code",
   "execution_count": 56,
   "id": "aafc8be7",
   "metadata": {},
   "outputs": [
    {
     "data": {
      "text/plain": [
       "array([36.125, 31.875, 33.125, 21.5  , 37.5  , 34.375, 28.125, 33.25 ,\n",
       "       31.125, 37.5  ])"
      ]
     },
     "execution_count": 56,
     "metadata": {},
     "output_type": "execute_result"
    }
   ],
   "source": [
    "np.mean(arr4, axis = 1)"
   ]
  },
  {
   "cell_type": "code",
   "execution_count": 58,
   "id": "4eec5cdc",
   "metadata": {},
   "outputs": [
    {
     "data": {
      "text/plain": [
       "array([34. , 39.5, 40. , 26.5, 29.5, 36.5, 26. , 28.5])"
      ]
     },
     "execution_count": 58,
     "metadata": {},
     "output_type": "execute_result"
    }
   ],
   "source": [
    "np.median(arr4, axis = 0)"
   ]
  },
  {
   "cell_type": "code",
   "execution_count": 60,
   "id": "ad9a3040",
   "metadata": {},
   "outputs": [
    {
     "data": {
      "text/plain": [
       "array([17, 22, 21, 11, 19, 16, 14, 17, 17, 19])"
      ]
     },
     "execution_count": 60,
     "metadata": {},
     "output_type": "execute_result"
    }
   ],
   "source": [
    "np.min(arr4, axis = 1)"
   ]
  },
  {
   "cell_type": "code",
   "execution_count": 61,
   "id": "433e7f2f",
   "metadata": {},
   "outputs": [
    {
     "data": {
      "text/plain": [
       "array([47, 48, 49, 47, 48, 49, 48, 43])"
      ]
     },
     "execution_count": 61,
     "metadata": {},
     "output_type": "execute_result"
    }
   ],
   "source": [
    "np.max(arr4, axis = 0)"
   ]
  },
  {
   "cell_type": "code",
   "execution_count": 64,
   "id": "e80fbfb9",
   "metadata": {},
   "outputs": [
    {
     "data": {
      "text/plain": [
       "array([37. , 27.5])"
      ]
     },
     "execution_count": 64,
     "metadata": {},
     "output_type": "execute_result"
    }
   ],
   "source": [
    "np.median(arr4[:2,4:8], axis =1)"
   ]
  },
  {
   "cell_type": "code",
   "execution_count": 66,
   "id": "e285363e",
   "metadata": {},
   "outputs": [
    {
     "data": {
      "text/plain": [
       "array([[12, 14, 17, 13, 19, 11, 16, 14],\n",
       "       [22, 18, 26, 15, 23, 17, 21, 19],\n",
       "       [29, 20, 34, 17, 24, 24, 24, 22],\n",
       "       [30, 32, 35, 21, 27, 25, 25, 24],\n",
       "       [31, 37, 40, 26, 28, 28, 26, 26],\n",
       "       [37, 42, 40, 27, 31, 45, 26, 31],\n",
       "       [40, 42, 41, 31, 41, 45, 30, 32],\n",
       "       [46, 45, 44, 35, 44, 45, 47, 37],\n",
       "       [47, 46, 46, 45, 47, 46, 47, 37],\n",
       "       [47, 48, 49, 47, 48, 49, 48, 43]])"
      ]
     },
     "execution_count": 66,
     "metadata": {},
     "output_type": "execute_result"
    }
   ],
   "source": [
    "np.sort(arr4, axis = 0)"
   ]
  },
  {
   "cell_type": "markdown",
   "id": "8c7c2675",
   "metadata": {},
   "source": [
    "<font size='5'>Concatenate is a generalised function</font>"
   ]
  },
  {
   "cell_type": "markdown",
   "id": "4b387882",
   "metadata": {},
   "source": [
    "<font size='4'>Whereas vstack and hstack are specific function</font>"
   ]
  },
  {
   "cell_type": "code",
   "execution_count": 68,
   "id": "782b1311",
   "metadata": {},
   "outputs": [
    {
     "data": {
      "text/plain": [
       "array([[11, 12, 13],\n",
       "       [14, 15, 16],\n",
       "       [17, 18, 19],\n",
       "       [ 1,  2,  3],\n",
       "       [ 4,  5,  6],\n",
       "       [ 7,  8,  9]])"
      ]
     },
     "execution_count": 68,
     "metadata": {},
     "output_type": "execute_result"
    }
   ],
   "source": [
    "np.concatenate((arr3,arr2), axis = 0)"
   ]
  },
  {
   "cell_type": "code",
   "execution_count": 74,
   "id": "0a996964",
   "metadata": {},
   "outputs": [
    {
     "data": {
      "text/plain": [
       "array([[11, 12, 13],\n",
       "       [14, 15, 16],\n",
       "       [17, 18, 19],\n",
       "       [ 1,  2,  3],\n",
       "       [ 4,  5,  6],\n",
       "       [ 7,  8,  9]])"
      ]
     },
     "execution_count": 74,
     "metadata": {},
     "output_type": "execute_result"
    }
   ],
   "source": [
    "np.vstack((arr3,arr2))"
   ]
  },
  {
   "cell_type": "code",
   "execution_count": 76,
   "id": "df03bbf3",
   "metadata": {},
   "outputs": [
    {
     "data": {
      "text/plain": [
       "array([[ 1,  2,  3, 11, 12, 13],\n",
       "       [ 4,  5,  6, 14, 15, 16],\n",
       "       [ 7,  8,  9, 17, 18, 19]])"
      ]
     },
     "execution_count": 76,
     "metadata": {},
     "output_type": "execute_result"
    }
   ],
   "source": [
    "np.concatenate((arr2,arr3), axis = 1)"
   ]
  },
  {
   "cell_type": "code",
   "execution_count": 71,
   "id": "26e8e3db",
   "metadata": {},
   "outputs": [
    {
     "data": {
      "text/plain": [
       "array([[ 1,  2,  3, 11, 12, 13],\n",
       "       [ 4,  5,  6, 14, 15, 16],\n",
       "       [ 7,  8,  9, 17, 18, 19]])"
      ]
     },
     "execution_count": 71,
     "metadata": {},
     "output_type": "execute_result"
    }
   ],
   "source": [
    "np.hstack((arr2,arr3))"
   ]
  },
  {
   "cell_type": "code",
   "execution_count": 7,
   "id": "7f512253",
   "metadata": {},
   "outputs": [
    {
     "data": {
      "text/plain": [
       "array([[21, 30, 15, 46, 41, 40, 44, 38],\n",
       "       [17, 31, 16, 44, 11, 15, 13, 21],\n",
       "       [42, 37, 15, 32, 23, 13, 43, 29],\n",
       "       [29, 24, 41, 34, 42, 23, 24, 25],\n",
       "       [18, 28, 17, 33, 29, 10, 39, 22],\n",
       "       [15, 44, 48, 30, 27, 20, 34, 18],\n",
       "       [23, 43, 38, 20, 35, 30, 18, 47],\n",
       "       [25, 42, 45, 41, 30, 38, 44, 21],\n",
       "       [18, 35, 27, 21, 47, 24, 32, 25],\n",
       "       [46, 24, 33, 30, 36, 29, 26, 48]])"
      ]
     },
     "execution_count": 7,
     "metadata": {},
     "output_type": "execute_result"
    }
   ],
   "source": [
    "big_arr = np.random.randint(10,50, size=(10,8))\n",
    "big_arr"
   ]
  },
  {
   "cell_type": "code",
   "execution_count": 88,
   "id": "0e87d05f",
   "metadata": {},
   "outputs": [
    {
     "data": {
      "text/plain": [
       "[array([[39, 24, 25, 25, 36, 39, 42, 35],\n",
       "        [36, 22, 30, 40, 45, 30, 35, 48]]),\n",
       " array([[34, 47, 18, 10, 15, 29, 46, 25],\n",
       "        [42, 42, 26, 29, 32, 26, 36, 21]]),\n",
       " array([[17, 35, 39, 20, 18, 44, 40, 32],\n",
       "        [30, 27, 13, 39, 32, 19, 45, 33]]),\n",
       " array([[45, 36, 28, 27, 34, 40, 22, 33],\n",
       "        [17, 39, 23, 29, 38, 15, 39, 37]]),\n",
       " array([[35, 41, 28, 42, 45, 32, 44, 44],\n",
       "        [41, 11, 34, 38, 12, 41, 32, 18]])]"
      ]
     },
     "execution_count": 88,
     "metadata": {},
     "output_type": "execute_result"
    }
   ],
   "source": [
    "np.vsplit(big_arr,5)"
   ]
  },
  {
   "cell_type": "code",
   "execution_count": 8,
   "id": "090771a5",
   "metadata": {},
   "outputs": [
    {
     "data": {
      "text/plain": [
       "[array([[21, 30],\n",
       "        [17, 31],\n",
       "        [42, 37],\n",
       "        [29, 24],\n",
       "        [18, 28],\n",
       "        [15, 44],\n",
       "        [23, 43],\n",
       "        [25, 42],\n",
       "        [18, 35],\n",
       "        [46, 24]]),\n",
       " array([[15, 46],\n",
       "        [16, 44],\n",
       "        [15, 32],\n",
       "        [41, 34],\n",
       "        [17, 33],\n",
       "        [48, 30],\n",
       "        [38, 20],\n",
       "        [45, 41],\n",
       "        [27, 21],\n",
       "        [33, 30]]),\n",
       " array([[41, 40],\n",
       "        [11, 15],\n",
       "        [23, 13],\n",
       "        [42, 23],\n",
       "        [29, 10],\n",
       "        [27, 20],\n",
       "        [35, 30],\n",
       "        [30, 38],\n",
       "        [47, 24],\n",
       "        [36, 29]]),\n",
       " array([[44, 38],\n",
       "        [13, 21],\n",
       "        [43, 29],\n",
       "        [24, 25],\n",
       "        [39, 22],\n",
       "        [34, 18],\n",
       "        [18, 47],\n",
       "        [44, 21],\n",
       "        [32, 25],\n",
       "        [26, 48]])]"
      ]
     },
     "execution_count": 8,
     "metadata": {},
     "output_type": "execute_result"
    }
   ],
   "source": [
    "np.hsplit(big_arr, 4)"
   ]
  }
 ],
 "metadata": {
  "kernelspec": {
   "display_name": "Python 3 (ipykernel)",
   "language": "python",
   "name": "python3"
  },
  "language_info": {
   "codemirror_mode": {
    "name": "ipython",
    "version": 3
   },
   "file_extension": ".py",
   "mimetype": "text/x-python",
   "name": "python",
   "nbconvert_exporter": "python",
   "pygments_lexer": "ipython3",
   "version": "3.9.13"
  }
 },
 "nbformat": 4,
 "nbformat_minor": 5
}
